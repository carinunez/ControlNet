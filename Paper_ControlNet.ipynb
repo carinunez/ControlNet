{
  "nbformat": 4,
  "nbformat_minor": 0,
  "metadata": {
    "colab": {
      "provenance": [],
      "gpuType": "T4",
      "collapsed_sections": [
        "PlRn9kIMtqlQ"
      ],
      "include_colab_link": true
    },
    "kernelspec": {
      "name": "python3",
      "display_name": "Python 3"
    },
    "language_info": {
      "name": "python"
    },
    "accelerator": "GPU",
    "widgets": {
      "application/vnd.jupyter.widget-state+json": {
        "21120017742347f4851073b62483cec5": {
          "model_module": "@jupyter-widgets/controls",
          "model_name": "HBoxModel",
          "model_module_version": "1.5.0",
          "state": {
            "_dom_classes": [],
            "_model_module": "@jupyter-widgets/controls",
            "_model_module_version": "1.5.0",
            "_model_name": "HBoxModel",
            "_view_count": null,
            "_view_module": "@jupyter-widgets/controls",
            "_view_module_version": "1.5.0",
            "_view_name": "HBoxView",
            "box_style": "",
            "children": [
              "IPY_MODEL_87a3ca91fa7d47cc99b1a07943ae29ff",
              "IPY_MODEL_331519ee79bf44b4a7b913904939fc84",
              "IPY_MODEL_a043c069f7424af3a41b4f5075f41461"
            ],
            "layout": "IPY_MODEL_7c0fbe285265418f8fba1b101aabfa72"
          }
        },
        "87a3ca91fa7d47cc99b1a07943ae29ff": {
          "model_module": "@jupyter-widgets/controls",
          "model_name": "HTMLModel",
          "model_module_version": "1.5.0",
          "state": {
            "_dom_classes": [],
            "_model_module": "@jupyter-widgets/controls",
            "_model_module_version": "1.5.0",
            "_model_name": "HTMLModel",
            "_view_count": null,
            "_view_module": "@jupyter-widgets/controls",
            "_view_module_version": "1.5.0",
            "_view_name": "HTMLView",
            "description": "",
            "description_tooltip": null,
            "layout": "IPY_MODEL_9e9ca2dd99ef42df9766bdd3642068e4",
            "placeholder": "​",
            "style": "IPY_MODEL_4a69d9a9a30b4d2ebd36dbb508afd215",
            "value": "  0%"
          }
        },
        "331519ee79bf44b4a7b913904939fc84": {
          "model_module": "@jupyter-widgets/controls",
          "model_name": "FloatProgressModel",
          "model_module_version": "1.5.0",
          "state": {
            "_dom_classes": [],
            "_model_module": "@jupyter-widgets/controls",
            "_model_module_version": "1.5.0",
            "_model_name": "FloatProgressModel",
            "_view_count": null,
            "_view_module": "@jupyter-widgets/controls",
            "_view_module_version": "1.5.0",
            "_view_name": "ProgressView",
            "bar_style": "danger",
            "description": "",
            "description_tooltip": null,
            "layout": "IPY_MODEL_384f0c3859aa45bcb41198e65f4ef244",
            "max": 50,
            "min": 0,
            "orientation": "horizontal",
            "style": "IPY_MODEL_f9ee29199b784da0b7d0cbf876c94825",
            "value": 0
          }
        },
        "a043c069f7424af3a41b4f5075f41461": {
          "model_module": "@jupyter-widgets/controls",
          "model_name": "HTMLModel",
          "model_module_version": "1.5.0",
          "state": {
            "_dom_classes": [],
            "_model_module": "@jupyter-widgets/controls",
            "_model_module_version": "1.5.0",
            "_model_name": "HTMLModel",
            "_view_count": null,
            "_view_module": "@jupyter-widgets/controls",
            "_view_module_version": "1.5.0",
            "_view_name": "HTMLView",
            "description": "",
            "description_tooltip": null,
            "layout": "IPY_MODEL_c688cc57b4204329a9bfca8616dc733a",
            "placeholder": "​",
            "style": "IPY_MODEL_83e7631c41934c6ab831786da4f60b34",
            "value": " 0/50 [00:00&lt;?, ?it/s]"
          }
        },
        "7c0fbe285265418f8fba1b101aabfa72": {
          "model_module": "@jupyter-widgets/base",
          "model_name": "LayoutModel",
          "model_module_version": "1.2.0",
          "state": {
            "_model_module": "@jupyter-widgets/base",
            "_model_module_version": "1.2.0",
            "_model_name": "LayoutModel",
            "_view_count": null,
            "_view_module": "@jupyter-widgets/base",
            "_view_module_version": "1.2.0",
            "_view_name": "LayoutView",
            "align_content": null,
            "align_items": null,
            "align_self": null,
            "border": null,
            "bottom": null,
            "display": null,
            "flex": null,
            "flex_flow": null,
            "grid_area": null,
            "grid_auto_columns": null,
            "grid_auto_flow": null,
            "grid_auto_rows": null,
            "grid_column": null,
            "grid_gap": null,
            "grid_row": null,
            "grid_template_areas": null,
            "grid_template_columns": null,
            "grid_template_rows": null,
            "height": null,
            "justify_content": null,
            "justify_items": null,
            "left": null,
            "margin": null,
            "max_height": null,
            "max_width": null,
            "min_height": null,
            "min_width": null,
            "object_fit": null,
            "object_position": null,
            "order": null,
            "overflow": null,
            "overflow_x": null,
            "overflow_y": null,
            "padding": null,
            "right": null,
            "top": null,
            "visibility": null,
            "width": null
          }
        },
        "9e9ca2dd99ef42df9766bdd3642068e4": {
          "model_module": "@jupyter-widgets/base",
          "model_name": "LayoutModel",
          "model_module_version": "1.2.0",
          "state": {
            "_model_module": "@jupyter-widgets/base",
            "_model_module_version": "1.2.0",
            "_model_name": "LayoutModel",
            "_view_count": null,
            "_view_module": "@jupyter-widgets/base",
            "_view_module_version": "1.2.0",
            "_view_name": "LayoutView",
            "align_content": null,
            "align_items": null,
            "align_self": null,
            "border": null,
            "bottom": null,
            "display": null,
            "flex": null,
            "flex_flow": null,
            "grid_area": null,
            "grid_auto_columns": null,
            "grid_auto_flow": null,
            "grid_auto_rows": null,
            "grid_column": null,
            "grid_gap": null,
            "grid_row": null,
            "grid_template_areas": null,
            "grid_template_columns": null,
            "grid_template_rows": null,
            "height": null,
            "justify_content": null,
            "justify_items": null,
            "left": null,
            "margin": null,
            "max_height": null,
            "max_width": null,
            "min_height": null,
            "min_width": null,
            "object_fit": null,
            "object_position": null,
            "order": null,
            "overflow": null,
            "overflow_x": null,
            "overflow_y": null,
            "padding": null,
            "right": null,
            "top": null,
            "visibility": null,
            "width": null
          }
        },
        "4a69d9a9a30b4d2ebd36dbb508afd215": {
          "model_module": "@jupyter-widgets/controls",
          "model_name": "DescriptionStyleModel",
          "model_module_version": "1.5.0",
          "state": {
            "_model_module": "@jupyter-widgets/controls",
            "_model_module_version": "1.5.0",
            "_model_name": "DescriptionStyleModel",
            "_view_count": null,
            "_view_module": "@jupyter-widgets/base",
            "_view_module_version": "1.2.0",
            "_view_name": "StyleView",
            "description_width": ""
          }
        },
        "384f0c3859aa45bcb41198e65f4ef244": {
          "model_module": "@jupyter-widgets/base",
          "model_name": "LayoutModel",
          "model_module_version": "1.2.0",
          "state": {
            "_model_module": "@jupyter-widgets/base",
            "_model_module_version": "1.2.0",
            "_model_name": "LayoutModel",
            "_view_count": null,
            "_view_module": "@jupyter-widgets/base",
            "_view_module_version": "1.2.0",
            "_view_name": "LayoutView",
            "align_content": null,
            "align_items": null,
            "align_self": null,
            "border": null,
            "bottom": null,
            "display": null,
            "flex": null,
            "flex_flow": null,
            "grid_area": null,
            "grid_auto_columns": null,
            "grid_auto_flow": null,
            "grid_auto_rows": null,
            "grid_column": null,
            "grid_gap": null,
            "grid_row": null,
            "grid_template_areas": null,
            "grid_template_columns": null,
            "grid_template_rows": null,
            "height": null,
            "justify_content": null,
            "justify_items": null,
            "left": null,
            "margin": null,
            "max_height": null,
            "max_width": null,
            "min_height": null,
            "min_width": null,
            "object_fit": null,
            "object_position": null,
            "order": null,
            "overflow": null,
            "overflow_x": null,
            "overflow_y": null,
            "padding": null,
            "right": null,
            "top": null,
            "visibility": null,
            "width": null
          }
        },
        "f9ee29199b784da0b7d0cbf876c94825": {
          "model_module": "@jupyter-widgets/controls",
          "model_name": "ProgressStyleModel",
          "model_module_version": "1.5.0",
          "state": {
            "_model_module": "@jupyter-widgets/controls",
            "_model_module_version": "1.5.0",
            "_model_name": "ProgressStyleModel",
            "_view_count": null,
            "_view_module": "@jupyter-widgets/base",
            "_view_module_version": "1.2.0",
            "_view_name": "StyleView",
            "bar_color": null,
            "description_width": ""
          }
        },
        "c688cc57b4204329a9bfca8616dc733a": {
          "model_module": "@jupyter-widgets/base",
          "model_name": "LayoutModel",
          "model_module_version": "1.2.0",
          "state": {
            "_model_module": "@jupyter-widgets/base",
            "_model_module_version": "1.2.0",
            "_model_name": "LayoutModel",
            "_view_count": null,
            "_view_module": "@jupyter-widgets/base",
            "_view_module_version": "1.2.0",
            "_view_name": "LayoutView",
            "align_content": null,
            "align_items": null,
            "align_self": null,
            "border": null,
            "bottom": null,
            "display": null,
            "flex": null,
            "flex_flow": null,
            "grid_area": null,
            "grid_auto_columns": null,
            "grid_auto_flow": null,
            "grid_auto_rows": null,
            "grid_column": null,
            "grid_gap": null,
            "grid_row": null,
            "grid_template_areas": null,
            "grid_template_columns": null,
            "grid_template_rows": null,
            "height": null,
            "justify_content": null,
            "justify_items": null,
            "left": null,
            "margin": null,
            "max_height": null,
            "max_width": null,
            "min_height": null,
            "min_width": null,
            "object_fit": null,
            "object_position": null,
            "order": null,
            "overflow": null,
            "overflow_x": null,
            "overflow_y": null,
            "padding": null,
            "right": null,
            "top": null,
            "visibility": null,
            "width": null
          }
        },
        "83e7631c41934c6ab831786da4f60b34": {
          "model_module": "@jupyter-widgets/controls",
          "model_name": "DescriptionStyleModel",
          "model_module_version": "1.5.0",
          "state": {
            "_model_module": "@jupyter-widgets/controls",
            "_model_module_version": "1.5.0",
            "_model_name": "DescriptionStyleModel",
            "_view_count": null,
            "_view_module": "@jupyter-widgets/base",
            "_view_module_version": "1.2.0",
            "_view_name": "StyleView",
            "description_width": ""
          }
        }
      }
    }
  },
  "cells": [
    {
      "cell_type": "markdown",
      "metadata": {
        "id": "view-in-github",
        "colab_type": "text"
      },
      "source": [
        "<a href=\"https://colab.research.google.com/github/carinunez/ControlNet/blob/main/Paper_ControlNet.ipynb\" target=\"_parent\"><img src=\"https://colab.research.google.com/assets/colab-badge.svg\" alt=\"Open In Colab\"/></a>"
      ]
    },
    {
      "cell_type": "code",
      "execution_count": 1,
      "metadata": {
        "collapsed": true,
        "id": "uWX6oetvCcyq"
      },
      "outputs": [],
      "source": [
        "# !pip install diffusers transformers accelerate opencv-python torch torchvision datasets"
      ]
    },
    {
      "cell_type": "code",
      "source": [
        "from diffusers import StableDiffusionPipeline\n",
        "\n",
        "pipe = StableDiffusionPipeline.from_pretrained(\"runwayml/stable-diffusion-v1-5\");\n",
        "pipe = pipe.to(\"cuda\")"
      ],
      "metadata": {
        "collapsed": true,
        "id": "L8Bzpbm5CknT"
      },
      "execution_count": null,
      "outputs": []
    },
    {
      "cell_type": "code",
      "source": [
        "import cv2\n",
        "import numpy as np\n",
        "from PIL import Image\n",
        "import torch\n",
        "import torch.nn as nn\n",
        "import torch.nn.functional as F\n",
        "from datasets import load_dataset, Dataset\n",
        "from torch.utils.data import DataLoader\n",
        "from torchvision import transforms\n",
        "from tqdm import tqdm\n",
        "from diffusers.schedulers import DDIMScheduler\n",
        "from types import MethodType\n",
        "import os\n",
        "from IPython.display import display\n",
        "import copy"
      ],
      "metadata": {
        "id": "ENEkvlVSCokv"
      },
      "execution_count": 3,
      "outputs": []
    },
    {
      "cell_type": "code",
      "source": [
        "from transformers import CLIPTextModel, CLIPTokenizer\n",
        "from diffusers import StableDiffusionPipeline, DDPMScheduler, UNet2DConditionModel\n",
        "from torch.utils.data import Dataset, DataLoader\n",
        "from datasets import load_dataset, Dataset as HFDataset\n",
        "from PIL import Image\n",
        "import torchvision.transforms as T\n"
      ],
      "metadata": {
        "id": "GAn_PGgTmclD"
      },
      "execution_count": 4,
      "outputs": []
    },
    {
      "cell_type": "markdown",
      "source": [
        "# DATOS"
      ],
      "metadata": {
        "id": "PlRn9kIMtqlQ"
      }
    },
    {
      "cell_type": "code",
      "source": [
        "from google.colab import drive\n",
        "drive.mount(\"/content/gdrive\")"
      ],
      "metadata": {
        "colab": {
          "base_uri": "https://localhost:8080/"
        },
        "id": "qGPBzlYqmvxN",
        "outputId": "5ee0f50f-1e53-4f88-cf90-a33e43510a59"
      },
      "execution_count": 5,
      "outputs": [
        {
          "output_type": "stream",
          "name": "stdout",
          "text": [
            "Mounted at /content/gdrive\n"
          ]
        }
      ]
    },
    {
      "cell_type": "code",
      "source": [
        "import json\n",
        "prompts_json = ['prompts.json', 'prompts200_400.json', 'prompts400_600.json',\n",
        "           'prompts600_end.json']\n",
        "\n",
        "prompt_dict = {}\n",
        "for jsons in prompts_json:\n",
        "  with open(os.path.join(\"/content/gdrive/MyDrive/\", jsons), 'r') as file:\n",
        "      prompt_dict.update(json.load(file))"
      ],
      "metadata": {
        "id": "1rzp8fVhZUTt"
      },
      "execution_count": 6,
      "outputs": []
    },
    {
      "cell_type": "code",
      "source": [
        "image_dir = \"/content/gdrive/MyDrive/img_pkmn\"\n",
        "canny_dir  =\"/content/gdrive/MyDrive/canny\"\n",
        "\n",
        "if not os.path.isdir(canny_dir):\n",
        "    os.makedirs(canny_dir)\n",
        "\n",
        "def apply_canny_path(image: Image.Image, im_path) -> Image.Image:\n",
        "\n",
        "    img = np.array(image.convert(\"RGB\"))\n",
        "    edges = cv2.Canny(img, 100, 200)\n",
        "    edges = np.stack([edges] * 3, axis=-1)  # convertir a 3 canales\n",
        "    edges = Image.fromarray(edges)\n",
        "    edges.save(os.path.join(canny_dir, f'canny_{im_path}'))\n",
        "    return edges\n",
        "\n",
        "\n",
        "# data = []\n",
        "# for im_path in os.listdir(image_dir):\n",
        "#   img = load_images(image_dir, im_path)\n",
        "#   # canny = apply_canny_path(img, im_path)\n",
        "#   canny = load_images(canny_dir, f'canny_{im_path}')\n",
        "#   prompt = \"a colorful pokemon\"\n",
        "#   data.append({\"image\": img, 'canny':canny, \"text\": prompt_dict[im_path]})\n",
        "\n",
        "# dataset_hf = HFDataset.from_list(data)"
      ],
      "metadata": {
        "id": "Fm5g7mNstu_o"
      },
      "execution_count": 7,
      "outputs": []
    },
    {
      "cell_type": "code",
      "source": [
        "def build_dataset(image_dir, canny_dir, prompt_dict):\n",
        "\n",
        "    dataset = []\n",
        "    for im_path in os.listdir(image_dir):\n",
        "        dataset.append({\n",
        "            \"image_path\": os.path.join(image_dir, im_path),\n",
        "            \"canny_path\": os.path.join(canny_dir, f'canny_{im_path}'),\n",
        "            \"text\": prompt_dict[im_path]\n",
        "        })\n",
        "    return dataset\n",
        "\n",
        "def save_dataset_json(dataset, save_path=\"dataset.json\"):\n",
        "    with open(save_path, \"w\") as f:\n",
        "        json.dump(dataset, f, indent=2)\n",
        "\n",
        "image_dir = \"/content/gdrive/MyDrive/img_pkmn\"\n",
        "canny_dir  =\"/content/gdrive/MyDrive/canny\"\n",
        "\n",
        "dataset = build_dataset(image_dir, canny_dir, prompt_dict)\n",
        "save_dataset_json(dataset, \"dataset.json\")"
      ],
      "metadata": {
        "id": "-VEVSOdpMHC9"
      },
      "execution_count": 8,
      "outputs": []
    },
    {
      "cell_type": "code",
      "source": [
        "import matplotlib.pyplot as plt\n",
        "fig, (ax1, ax2) = plt.subplots(1, 2, figsize=(8, 12))\n",
        "ax1.imshow(Image.open(dataset[1]['image_path']));\n",
        "ax1.set_title('Original');\n",
        "ax2.imshow(Image.open(dataset[1]['canny_path']));\n",
        "ax2.set_title('Canny');\n",
        "print(dataset[1]['text'])"
      ],
      "metadata": {
        "id": "ywxqCvUXmkCh",
        "colab": {
          "base_uri": "https://localhost:8080/",
          "height": 381
        },
        "outputId": "28fe1f24-ad21-4738-b59c-f0d6636ef7ef"
      },
      "execution_count": 9,
      "outputs": [
        {
          "output_type": "stream",
          "name": "stdout",
          "text": [
            "a bird with a black and white beak\n"
          ]
        },
        {
          "output_type": "display_data",
          "data": {
            "text/plain": [
              "<Figure size 800x1200 with 2 Axes>"
            ],
            "image/png": "[encoded data removed]"
          },
          "metadata": {}
        }
      ]
    },
    {
      "cell_type": "code",
      "source": [
        "class ControlDataset(Dataset):\n",
        "    def __init__(self, dataset_json, size=64):\n",
        "        with open(dataset_json, \"r\") as f:\n",
        "          self.dataset = json.load(f)\n",
        "        self.image_trans = T.Compose([\n",
        "            T.Resize((size, size)),\n",
        "            T.ToTensor(),\n",
        "            T.Normalize([0.5]*3, [0.5]*3)  # RGB\n",
        "        ])\n",
        "\n",
        "    def __len__(self):\n",
        "        return len(self.dataset)\n",
        "\n",
        "    def __getitem__(self, idx):\n",
        "        sample = self.dataset[idx]\n",
        "\n",
        "        # Lazy-load the images from disk\n",
        "        img = Image.open(sample['image_path']).convert('RGB')\n",
        "        ctrl = Image.open(sample['canny_path']).convert('RGB')\n",
        "\n",
        "        # Apply transforms\n",
        "        img = self.image_trans(img)\n",
        "        ctrl = self.image_trans(ctrl)\n",
        "        prompt = sample['text']\n",
        "\n",
        "        return img, ctrl, prompt\n"
      ],
      "metadata": {
        "id": "bhDUPLDoml6M"
      },
      "execution_count": 10,
      "outputs": []
    },
    {
      "cell_type": "code",
      "source": [
        "# Dataloader\n",
        "train_dataloader = DataLoader(ControlDataset('dataset.json', size=512),\n",
        "                              batch_size=2, shuffle=True)"
      ],
      "metadata": {
        "id": "j3pu4UEI4QdO"
      },
      "execution_count": 11,
      "outputs": []
    },
    {
      "cell_type": "code",
      "source": [
        "for img, ctrl, prompt in train_dataloader:\n",
        "    print(img.shape, ctrl.shape, prompt)\n",
        "    break"
      ],
      "metadata": {
        "colab": {
          "base_uri": "https://localhost:8080/"
        },
        "id": "wrHORQV5XJcW",
        "outputId": "65b359a5-be59-4240-f7b2-98efa1ffbcab"
      },
      "execution_count": 12,
      "outputs": [
        {
          "output_type": "stream",
          "name": "stdout",
          "text": [
            "torch.Size([2, 3, 512, 512]) torch.Size([2, 3, 512, 512]) ('a blue pokemon pokemon', 'a cartoon character with a big purple bat')\n"
          ]
        }
      ]
    },
    {
      "cell_type": "markdown",
      "source": [
        "# Clases de 0"
      ],
      "metadata": {
        "id": "82MMGGxrvyNA"
      }
    },
    {
      "cell_type": "code",
      "source": [
        "class ConditionEncoder(nn.Module):\n",
        "    def __init__(self):\n",
        "        super().__init__()\n",
        "        self.blocks = nn.Sequential(\n",
        "            nn.Conv2d(3, 16, kernel_size=4, stride=2, padding=1),  # 256→128\n",
        "            nn.ReLU(),\n",
        "            nn.Conv2d(16, 32, kernel_size=4, stride=2, padding=1),  # 128→64\n",
        "            nn.ReLU(),\n",
        "            nn.Conv2d(32, 64, kernel_size=4, stride=2, padding=1),  # 64→32\n",
        "            nn.ReLU(),\n",
        "            nn.Conv2d(64, 128, kernel_size=4, stride=2, padding=1),  # 32→16\n",
        "            nn.ReLU(),\n",
        "        )\n",
        "\n",
        "    def forward(self, x):\n",
        "        x = self.blocks(x)  # [B, 128, 32, 32]\n",
        "        # Upsample para coincidir con tamaño de input a ControlBlock (64×64)\n",
        "        x = F.interpolate(x, size=(64, 64), mode='bilinear', align_corners=False)\n",
        "        return x\n"
      ],
      "metadata": {
        "id": "oCNNWnEuv0ix"
      },
      "execution_count": 13,
      "outputs": []
    },
    {
      "cell_type": "code",
      "source": [
        "class ZeroConv(nn.Conv2d):\n",
        "    def reset_parameters(self):\n",
        "        nn.init.zeros_(self.weight)\n",
        "        if self.bias is not None:\n",
        "            nn.init.zeros_(self.bias)\n",
        "\n",
        "class ControlBlock(nn.Module):\n",
        "    def __init__(self, base_block, in_channels):\n",
        "        super().__init__()\n",
        "        self.locked_block = base_block.eval()\n",
        "\n",
        "        out_channels = base_block.out_channels # check later\n",
        "\n",
        "        for p in self.locked_block.parameters():\n",
        "            p.requires_grad = False\n",
        "\n",
        "        self.trainable_block = copy.deepcopy(base_block)\n",
        "        self.zero_conv1 = ZeroConv(in_channels, out_channels, kernel_size=1)\n",
        "        self.zero_conv2 = ZeroConv(out_channels, out_channels, kernel_size=1)\n",
        "\n",
        "    def forward(self, x, condition, temb=None):\n",
        "        zc1 = self.zero_conv1(condition)\n",
        "        assert zc1.shape == x.shape, f\"Shape mismatch: {zc1.shape} vs {x.shape}\"\n",
        "\n",
        "        x_cond = x + zc1\n",
        "        y_trainable = self.trainable_block(x_cond, temb=temb)\n",
        "        y_final = self.locked_block(x, temb=temb) + self.zero_conv2(y_trainable)\n",
        "        return y_final"
      ],
      "metadata": {
        "id": "cLSL-D5ExB4J"
      },
      "execution_count": 14,
      "outputs": []
    },
    {
      "cell_type": "code",
      "source": [
        "class ControlNetWrapper(nn.Module):\n",
        "    def __init__(self, unet, control_blocks, condition_encoder):\n",
        "        super().__init__()\n",
        "        self.unet = unet.eval()  # U-Net congelada\n",
        "        self.control_blocks = control_blocks  # Lista de ControlBlocks\n",
        "        self.condition_encoder = condition_encoder.eval()  # Congelada en inferencia\n",
        "        # self.down_blocks = unet.down_blocks\n",
        "        # self.up_blocks = unet.up_blocks\n",
        "        # self.mid_block = unet.mid_block\n",
        "\n",
        "        # congelar todo\n",
        "    def freeze(self):\n",
        "        for p in self.unet.parameters():\n",
        "            p.requires_grad = True\n",
        "\n",
        "        for cb in self.control_blocks:\n",
        "            for p in cb.parameters():\n",
        "                p.requires_grad = False\n",
        "\n",
        "        for p in self.condition_encoder.parameters():\n",
        "            p.requires_grad = False\n",
        "\n",
        "    def forward(self, sample, timestep, encoder_hidden_states, condition=None, **kwargs):\n",
        "        # sample: el latente z_t (ruido)\n",
        "        # condition: imagen tipo Canny como tensor (B x 3 x 512 x 512)\n",
        "\n",
        "        if condition is None:\n",
        "            raise ValueError(\"Falta la condición visual en el forward\")\n",
        "\n",
        "        # Codificar la condición visual\n",
        "        cond_feat = self.condition_encoder(condition)\n",
        "\n",
        "        x = self.unet.conv_in(sample) #injecta los control blocks\n",
        "\n",
        "        temb = self.unet.time_proj(timestep)\n",
        "        temb = self.unet.time_embedding(temb)\n",
        "\n",
        "        # Aplicar los bloques de ControlNet en secuencia\n",
        "        for i, control_block in enumerate(self.control_blocks):\n",
        "            x = control_block(x, cond_feat, temb=temb)\n",
        "\n",
        "        # Pasar a la U-Net congelada\n",
        "        return self.unet(x, timestep, encoder_hidden_states=encoder_hidden_states, **kwargs)"
      ],
      "metadata": {
        "id": "o8QyZt31xQ-U"
      },
      "execution_count": 15,
      "outputs": []
    },
    {
      "cell_type": "code",
      "source": [
        "scheduler = DDIMScheduler.from_pretrained(\"runwayml/stable-diffusion-v1-5\", subfolder=\"scheduler\")\n",
        "\n",
        "vae = pipe.vae.to('cuda')\n",
        "text_encoder = pipe.text_encoder.to('cuda')\n",
        "tokenizer = pipe.tokenizer\n",
        "\n",
        "vae.eval()\n",
        "text_encoder.eval()\n",
        "unet = pipe.unet.eval()  # congelado\n",
        "\n",
        "# Freeze U-Net\n",
        "for p in unet.parameters():\n",
        "    p.requires_grad = True\n",
        "\n",
        "for p in vae.parameters():\n",
        "    p.requires_grad = False\n",
        "\n",
        "for p in text_encoder.parameters():\n",
        "    p.requires_grad = False"
      ],
      "metadata": {
        "id": "_znkxSSQxmoT"
      },
      "execution_count": 16,
      "outputs": []
    },
    {
      "cell_type": "code",
      "source": [
        "# Parche a stable diffusion pipeline\n",
        "def patched_call(self, *args, **kwargs):\n",
        "    # condition = kwargs.get(\"condition\", None)\n",
        "\n",
        "    # if \"condition\" not in kwargs:\n",
        "    #     kwargs[\"condition\"] = condition\n",
        "    return self.__class__.original_call(self, *args, **kwargs)\n",
        "\n",
        "# Parchear stable diffussion para darle la condición\n",
        "StableDiffusionPipeline.original_call = StableDiffusionPipeline.__call__\n",
        "StableDiffusionPipeline.__call__ = MethodType(patched_call, pipe)"
      ],
      "metadata": {
        "id": "0caPIj8Ixnvq"
      },
      "execution_count": 17,
      "outputs": []
    },
    {
      "cell_type": "code",
      "source": [
        "# Encoder de condiciones minimal\n",
        "condition_encoder = ConditionEncoder().to(\"cuda\")\n",
        "\n",
        "# Bloque 1 (igual que ya tienes)\n",
        "control_block1 = ControlBlock(\n",
        "    base_block=pipe.unet.down_blocks[0].resnets[0],\n",
        "    in_channels=128\n",
        ").to(\"cuda\")\n",
        "\n",
        "# Bloque 2 (segundo resnet del mismo down_block)\n",
        "control_block2 = ControlBlock(\n",
        "    base_block=pipe.unet.down_blocks[0].resnets[1],\n",
        "    in_channels=128\n",
        ").to(\"cuda\")\n",
        "\n"
      ],
      "metadata": {
        "id": "XPQO7-BHxo7_"
      },
      "execution_count": 18,
      "outputs": []
    },
    {
      "cell_type": "code",
      "source": [
        "wrapper = ControlNetWrapper(\n",
        "    unet= pipe.unet,\n",
        "    control_blocks=[control_block1, control_block2],\n",
        "    condition_encoder=condition_encoder\n",
        ").to('cuda')\n",
        "\n",
        "# Reemplaza la unet del pipeline\n",
        "pipe.unet = wrapper"
      ],
      "metadata": {
        "id": "rw3tRy-dxuqQ"
      },
      "execution_count": 19,
      "outputs": []
    },
    {
      "cell_type": "code",
      "source": [
        "pipe.unet.unet.down_blocks[0].resnets[0]\n"
      ],
      "metadata": {
        "colab": {
          "base_uri": "https://localhost:8080/"
        },
        "id": "NIhldniIHha_",
        "outputId": "018fcdd6-13ce-443d-a29c-ee64615234af"
      },
      "execution_count": 20,
      "outputs": [
        {
          "output_type": "execute_result",
          "data": {
            "text/plain": [
              "ResnetBlock2D(\n",
              "  (norm1): GroupNorm(32, 320, eps=1e-05, affine=True)\n",
              "  (conv1): Conv2d(320, 320, kernel_size=(3, 3), stride=(1, 1), padding=(1, 1))\n",
              "  (time_emb_proj): Linear(in_features=1280, out_features=320, bias=True)\n",
              "  (norm2): GroupNorm(32, 320, eps=1e-05, affine=True)\n",
              "  (dropout): Dropout(p=0.0, inplace=False)\n",
              "  (conv2): Conv2d(320, 320, kernel_size=(3, 3), stride=(1, 1), padding=(1, 1))\n",
              "  (nonlinearity): SiLU()\n",
              ")"
            ]
          },
          "metadata": {},
          "execution_count": 20
        }
      ]
    },
    {
      "cell_type": "code",
      "source": [
        "pipe.unet.config = pipe.unet.unet.config\n"
      ],
      "metadata": {
        "id": "JfFCwu4VhcRw"
      },
      "execution_count": 21,
      "outputs": []
    },
    {
      "cell_type": "code",
      "source": [
        "#  Optimizador\n",
        "optimizer = torch.optim.Adam(\n",
        "    list(control_block1.parameters()) + list(control_block2.parameters()),\n",
        "    lr=1e-4\n",
        ")\n",
        "\n",
        "# Entrenamiento simple\n",
        "# Steps\n",
        "step = 0\n",
        "for epoch in range(3):\n",
        "    for imgs, conds, captions in tqdm(train_dataloader):\n",
        "        imgs, conds = imgs.to(\"cuda\"), conds.to(\"cuda\")\n",
        "\n",
        "        # 1. Codifica imagen a latente limpio\n",
        "        latents = vae.encode(imgs).latent_dist.sample() * 0.18215\n",
        "\n",
        "        # 2. Samplea paso de ruido\n",
        "        noise = torch.randn_like(latents)\n",
        "        timesteps = torch.randint(0, scheduler.config.num_train_timesteps,\n",
        "                                  (latents.shape[0],), device=latents.device).long()\n",
        "\n",
        "        # 3. Agrega ruido\n",
        "        noisy_latents = scheduler.add_noise(latents, noise, timesteps)\n",
        "\n",
        "        # 4. Codifica texto (prompt)\n",
        "        text_inputs = tokenizer(captions, padding=\"max_length\", max_length=77,\n",
        "                                return_tensors=\"pt\").to(\"cuda\")\n",
        "        text_embeddings = text_encoder(text_inputs.input_ids)[0]\n",
        "\n",
        "        # 5. Codifica condición visual\n",
        "        cond_feat = condition_encoder(conds)\n",
        "\n",
        "        # 6. Pasa por ControlNet (tus bloques)\n",
        "        x = pipe.unet.unet.conv_in(noisy_latents)\n",
        "\n",
        "        temb = pipe.unet.unet.time_proj(timesteps)\n",
        "        temb = pipe.unet.unet.time_embedding(temb)\n",
        "\n",
        "        print(\"Shape 2\",cond_feat.shape)\n",
        "        print(\"Shape x 2\",x.shape)\n",
        "        x = control_block1(x, cond_feat, temb=temb)\n",
        "        x = control_block2(x, cond_feat, temb=temb)\n",
        "\n",
        "        # 7. Predice el ruido con U-Net congelado\n",
        "        noise_pred = unet(\n",
        "                        noisy_latents, timesteps,\n",
        "                        encoder_hidden_states=text_embeddings\n",
        "                        ).sample\n",
        "\n",
        "        # 8. Loss entre ruido predicho y ruido real\n",
        "        loss = torch.nn.functional.mse_loss(noise_pred, noise)\n",
        "\n",
        "\n",
        "        loss.backward()\n",
        "        optimizer.step()\n",
        "        optimizer.zero_grad()\n",
        "\n",
        "        print(f\"[Epoch {epoch}] Step {step} - Loss: {loss.item()}\")\n",
        "\n",
        "        # Visualización cada 100 pasos\n",
        "        if step % 10 == 0:\n",
        "            with torch.no_grad():\n",
        "                # pipe.unet = wrapper  # Asegura que pipe use el wrapper\n",
        "                img_out = pipe(prompt=captions[0], condition=conds[0].unsqueeze(0)).images[0]\n",
        "                display(img_out)\n",
        "\n",
        "        del latents, x, cond_feat, noise_pred\n",
        "        torch.cuda.empty_cache()\n",
        "        step += 1  # ← avanzar contador"
      ],
      "metadata": {
        "colab": {
          "base_uri": "https://localhost:8080/",
          "height": 458,
          "referenced_widgets": [
            "21120017742347f4851073b62483cec5",
            "87a3ca91fa7d47cc99b1a07943ae29ff",
            "331519ee79bf44b4a7b913904939fc84",
            "a043c069f7424af3a41b4f5075f41461",
            "7c0fbe285265418f8fba1b101aabfa72",
            "9e9ca2dd99ef42df9766bdd3642068e4",
            "4a69d9a9a30b4d2ebd36dbb508afd215",
            "384f0c3859aa45bcb41198e65f4ef244",
            "f9ee29199b784da0b7d0cbf876c94825",
            "c688cc57b4204329a9bfca8616dc733a",
            "83e7631c41934c6ab831786da4f60b34"
          ]
        },
        "id": "qAQeNtQbxxIP",
        "outputId": "76e5e215-3467-47a6-e45e-8acc4ced9c0f"
      },
      "execution_count": 22,
      "outputs": [
        {
          "output_type": "stream",
          "name": "stderr",
          "text": [
            "\r  0%|          | 0/417 [00:00<?, ?it/s]"
          ]
        },
        {
          "output_type": "stream",
          "name": "stdout",
          "text": [
            "Shape 2 torch.Size([2, 128, 64, 64])\n",
            "Shape x 2 torch.Size([2, 320, 64, 64])\n",
            "[Epoch 0] Step 0 - Loss: 0.0024747420102357864\n"
          ]
        },
        {
          "output_type": "display_data",
          "data": {
            "text/plain": [
              "  0%|          | 0/50 [00:00<?, ?it/s]"
            ],
            "application/vnd.jupyter.widget-view+json": {
              "version_major": 2,
              "version_minor": 0,
              "model_id": "21120017742347f4851073b62483cec5"
            }
          },
          "metadata": {}
        },
        {
          "output_type": "stream",
          "name": "stderr",
          "text": [
            "\r  0%|          | 0/417 [00:05<?, ?it/s]\n"
          ]
        },
        {
          "output_type": "error",
          "ename": "ValueError",
          "evalue": "Falta la condición visual en el forward",
          "traceback": [
            "\u001b[0;31m---------------------------------------------------------------------------\u001b[0m",
            "\u001b[0;31mValueError\u001b[0m                                Traceback (most recent call last)",
            "\u001b[0;32m/tmp/ipython-input-22-3804412991.py\u001b[0m in \u001b[0;36m<cell line: 0>\u001b[0;34m()\u001b[0m\n\u001b[1;32m     62\u001b[0m             \u001b[0;32mwith\u001b[0m \u001b[0mtorch\u001b[0m\u001b[0;34m.\u001b[0m\u001b[0mno_grad\u001b[0m\u001b[0;34m(\u001b[0m\u001b[0;34m)\u001b[0m\u001b[0;34m:\u001b[0m\u001b[0;34m\u001b[0m\u001b[0;34m\u001b[0m\u001b[0m\n\u001b[1;32m     63\u001b[0m                 \u001b[0;31m# pipe.unet = wrapper  # Asegura que pipe use el wrapper\u001b[0m\u001b[0;34m\u001b[0m\u001b[0;34m\u001b[0m\u001b[0m\n\u001b[0;32m---> 64\u001b[0;31m                 \u001b[0mimg_out\u001b[0m \u001b[0;34m=\u001b[0m \u001b[0mpipe\u001b[0m\u001b[0;34m(\u001b[0m\u001b[0mprompt\u001b[0m\u001b[0;34m=\u001b[0m\u001b[0mcaptions\u001b[0m\u001b[0;34m[\u001b[0m\u001b[0;36m0\u001b[0m\u001b[0;34m]\u001b[0m\u001b[0;34m,\u001b[0m \u001b[0mcondition\u001b[0m\u001b[0;34m=\u001b[0m\u001b[0mconds\u001b[0m\u001b[0;34m[\u001b[0m\u001b[0;36m0\u001b[0m\u001b[0;34m]\u001b[0m\u001b[0;34m.\u001b[0m\u001b[0munsqueeze\u001b[0m\u001b[0;34m(\u001b[0m\u001b[0;36m0\u001b[0m\u001b[0;34m)\u001b[0m\u001b[0;34m)\u001b[0m\u001b[0;34m.\u001b[0m\u001b[0mimages\u001b[0m\u001b[0;34m[\u001b[0m\u001b[0;36m0\u001b[0m\u001b[0;34m]\u001b[0m\u001b[0;34m\u001b[0m\u001b[0;34m\u001b[0m\u001b[0m\n\u001b[0m\u001b[1;32m     65\u001b[0m                 \u001b[0mdisplay\u001b[0m\u001b[0;34m(\u001b[0m\u001b[0mimg_out\u001b[0m\u001b[0;34m)\u001b[0m\u001b[0;34m\u001b[0m\u001b[0;34m\u001b[0m\u001b[0m\n\u001b[1;32m     66\u001b[0m \u001b[0;34m\u001b[0m\u001b[0m\n",
            "\u001b[0;32m/tmp/ipython-input-17-612026032.py\u001b[0m in \u001b[0;36mpatched_call\u001b[0;34m(self, *args, **kwargs)\u001b[0m\n\u001b[1;32m      5\u001b[0m     \u001b[0;31m# if \"condition\" not in kwargs:\u001b[0m\u001b[0;34m\u001b[0m\u001b[0;34m\u001b[0m\u001b[0m\n\u001b[1;32m      6\u001b[0m     \u001b[0;31m#     kwargs[\"condition\"] = condition\u001b[0m\u001b[0;34m\u001b[0m\u001b[0;34m\u001b[0m\u001b[0m\n\u001b[0;32m----> 7\u001b[0;31m     \u001b[0;32mreturn\u001b[0m \u001b[0mself\u001b[0m\u001b[0;34m.\u001b[0m\u001b[0m__class__\u001b[0m\u001b[0;34m.\u001b[0m\u001b[0moriginal_call\u001b[0m\u001b[0;34m(\u001b[0m\u001b[0mself\u001b[0m\u001b[0;34m,\u001b[0m \u001b[0;34m*\u001b[0m\u001b[0margs\u001b[0m\u001b[0;34m,\u001b[0m \u001b[0;34m**\u001b[0m\u001b[0mkwargs\u001b[0m\u001b[0;34m)\u001b[0m\u001b[0;34m\u001b[0m\u001b[0;34m\u001b[0m\u001b[0m\n\u001b[0m\u001b[1;32m      8\u001b[0m \u001b[0;34m\u001b[0m\u001b[0m\n\u001b[1;32m      9\u001b[0m \u001b[0;31m# Parchear stable diffussion para darle la condición\u001b[0m\u001b[0;34m\u001b[0m\u001b[0;34m\u001b[0m\u001b[0m\n",
            "\u001b[0;32m/usr/local/lib/python3.11/dist-packages/torch/utils/_contextlib.py\u001b[0m in \u001b[0;36mdecorate_context\u001b[0;34m(*args, **kwargs)\u001b[0m\n\u001b[1;32m    114\u001b[0m     \u001b[0;32mdef\u001b[0m \u001b[0mdecorate_context\u001b[0m\u001b[0;34m(\u001b[0m\u001b[0;34m*\u001b[0m\u001b[0margs\u001b[0m\u001b[0;34m,\u001b[0m \u001b[0;34m**\u001b[0m\u001b[0mkwargs\u001b[0m\u001b[0;34m)\u001b[0m\u001b[0;34m:\u001b[0m\u001b[0;34m\u001b[0m\u001b[0;34m\u001b[0m\u001b[0m\n\u001b[1;32m    115\u001b[0m         \u001b[0;32mwith\u001b[0m \u001b[0mctx_factory\u001b[0m\u001b[0;34m(\u001b[0m\u001b[0;34m)\u001b[0m\u001b[0;34m:\u001b[0m\u001b[0;34m\u001b[0m\u001b[0;34m\u001b[0m\u001b[0m\n\u001b[0;32m--> 116\u001b[0;31m             \u001b[0;32mreturn\u001b[0m \u001b[0mfunc\u001b[0m\u001b[0;34m(\u001b[0m\u001b[0;34m*\u001b[0m\u001b[0margs\u001b[0m\u001b[0;34m,\u001b[0m \u001b[0;34m**\u001b[0m\u001b[0mkwargs\u001b[0m\u001b[0;34m)\u001b[0m\u001b[0;34m\u001b[0m\u001b[0;34m\u001b[0m\u001b[0m\n\u001b[0m\u001b[1;32m    117\u001b[0m \u001b[0;34m\u001b[0m\u001b[0m\n\u001b[1;32m    118\u001b[0m     \u001b[0;32mreturn\u001b[0m \u001b[0mdecorate_context\u001b[0m\u001b[0;34m\u001b[0m\u001b[0;34m\u001b[0m\u001b[0m\n",
            "\u001b[0;32m/usr/local/lib/python3.11/dist-packages/diffusers/pipelines/stable_diffusion/pipeline_stable_diffusion.py\u001b[0m in \u001b[0;36m__call__\u001b[0;34m(self, prompt, height, width, num_inference_steps, timesteps, sigmas, guidance_scale, negative_prompt, num_images_per_prompt, eta, generator, latents, prompt_embeds, negative_prompt_embeds, ip_adapter_image, ip_adapter_image_embeds, output_type, return_dict, cross_attention_kwargs, guidance_rescale, clip_skip, callback_on_step_end, callback_on_step_end_tensor_inputs, **kwargs)\u001b[0m\n\u001b[1;32m   1038\u001b[0m \u001b[0;34m\u001b[0m\u001b[0m\n\u001b[1;32m   1039\u001b[0m                 \u001b[0;31m# predict the noise residual\u001b[0m\u001b[0;34m\u001b[0m\u001b[0;34m\u001b[0m\u001b[0m\n\u001b[0;32m-> 1040\u001b[0;31m                 noise_pred = self.unet(\n\u001b[0m\u001b[1;32m   1041\u001b[0m                     \u001b[0mlatent_model_input\u001b[0m\u001b[0;34m,\u001b[0m\u001b[0;34m\u001b[0m\u001b[0;34m\u001b[0m\u001b[0m\n\u001b[1;32m   1042\u001b[0m                     \u001b[0mt\u001b[0m\u001b[0;34m,\u001b[0m\u001b[0;34m\u001b[0m\u001b[0;34m\u001b[0m\u001b[0m\n",
            "\u001b[0;32m/usr/local/lib/python3.11/dist-packages/torch/nn/modules/module.py\u001b[0m in \u001b[0;36m_wrapped_call_impl\u001b[0;34m(self, *args, **kwargs)\u001b[0m\n\u001b[1;32m   1737\u001b[0m             \u001b[0;32mreturn\u001b[0m \u001b[0mself\u001b[0m\u001b[0;34m.\u001b[0m\u001b[0m_compiled_call_impl\u001b[0m\u001b[0;34m(\u001b[0m\u001b[0;34m*\u001b[0m\u001b[0margs\u001b[0m\u001b[0;34m,\u001b[0m \u001b[0;34m**\u001b[0m\u001b[0mkwargs\u001b[0m\u001b[0;34m)\u001b[0m  \u001b[0;31m# type: ignore[misc]\u001b[0m\u001b[0;34m\u001b[0m\u001b[0;34m\u001b[0m\u001b[0m\n\u001b[1;32m   1738\u001b[0m         \u001b[0;32melse\u001b[0m\u001b[0;34m:\u001b[0m\u001b[0;34m\u001b[0m\u001b[0;34m\u001b[0m\u001b[0m\n\u001b[0;32m-> 1739\u001b[0;31m             \u001b[0;32mreturn\u001b[0m \u001b[0mself\u001b[0m\u001b[0;34m.\u001b[0m\u001b[0m_call_impl\u001b[0m\u001b[0;34m(\u001b[0m\u001b[0;34m*\u001b[0m\u001b[0margs\u001b[0m\u001b[0;34m,\u001b[0m \u001b[0;34m**\u001b[0m\u001b[0mkwargs\u001b[0m\u001b[0;34m)\u001b[0m\u001b[0;34m\u001b[0m\u001b[0;34m\u001b[0m\u001b[0m\n\u001b[0m\u001b[1;32m   1740\u001b[0m \u001b[0;34m\u001b[0m\u001b[0m\n\u001b[1;32m   1741\u001b[0m     \u001b[0;31m# torchrec tests the code consistency with the following code\u001b[0m\u001b[0;34m\u001b[0m\u001b[0;34m\u001b[0m\u001b[0m\n",
            "\u001b[0;32m/usr/local/lib/python3.11/dist-packages/torch/nn/modules/module.py\u001b[0m in \u001b[0;36m_call_impl\u001b[0;34m(self, *args, **kwargs)\u001b[0m\n\u001b[1;32m   1748\u001b[0m                 \u001b[0;32mor\u001b[0m \u001b[0m_global_backward_pre_hooks\u001b[0m \u001b[0;32mor\u001b[0m \u001b[0m_global_backward_hooks\u001b[0m\u001b[0;34m\u001b[0m\u001b[0;34m\u001b[0m\u001b[0m\n\u001b[1;32m   1749\u001b[0m                 or _global_forward_hooks or _global_forward_pre_hooks):\n\u001b[0;32m-> 1750\u001b[0;31m             \u001b[0;32mreturn\u001b[0m \u001b[0mforward_call\u001b[0m\u001b[0;34m(\u001b[0m\u001b[0;34m*\u001b[0m\u001b[0margs\u001b[0m\u001b[0;34m,\u001b[0m \u001b[0;34m**\u001b[0m\u001b[0mkwargs\u001b[0m\u001b[0;34m)\u001b[0m\u001b[0;34m\u001b[0m\u001b[0;34m\u001b[0m\u001b[0m\n\u001b[0m\u001b[1;32m   1751\u001b[0m \u001b[0;34m\u001b[0m\u001b[0m\n\u001b[1;32m   1752\u001b[0m         \u001b[0mresult\u001b[0m \u001b[0;34m=\u001b[0m \u001b[0;32mNone\u001b[0m\u001b[0;34m\u001b[0m\u001b[0;34m\u001b[0m\u001b[0m\n",
            "\u001b[0;32m/tmp/ipython-input-15-235574527.py\u001b[0m in \u001b[0;36mforward\u001b[0;34m(self, sample, timestep, encoder_hidden_states, condition, **kwargs)\u001b[0m\n\u001b[1;32m     26\u001b[0m \u001b[0;34m\u001b[0m\u001b[0m\n\u001b[1;32m     27\u001b[0m         \u001b[0;32mif\u001b[0m \u001b[0mcondition\u001b[0m \u001b[0;32mis\u001b[0m \u001b[0;32mNone\u001b[0m\u001b[0;34m:\u001b[0m\u001b[0;34m\u001b[0m\u001b[0;34m\u001b[0m\u001b[0m\n\u001b[0;32m---> 28\u001b[0;31m             \u001b[0;32mraise\u001b[0m \u001b[0mValueError\u001b[0m\u001b[0;34m(\u001b[0m\u001b[0;34m\"Falta la condición visual en el forward\"\u001b[0m\u001b[0;34m)\u001b[0m\u001b[0;34m\u001b[0m\u001b[0;34m\u001b[0m\u001b[0m\n\u001b[0m\u001b[1;32m     29\u001b[0m \u001b[0;34m\u001b[0m\u001b[0m\n\u001b[1;32m     30\u001b[0m         \u001b[0;31m# Codificar la condición visual\u001b[0m\u001b[0;34m\u001b[0m\u001b[0;34m\u001b[0m\u001b[0m\n",
            "\u001b[0;31mValueError\u001b[0m: Falta la condición visual en el forward"
          ]
        }
      ]
    },
    {
      "cell_type": "code",
      "source": [
        "captions[0]"
      ],
      "metadata": {
        "id": "_JV5ZnfUjvrB"
      },
      "execution_count": null,
      "outputs": []
    },
    {
      "cell_type": "code",
      "source": [
        "pipe(prompt=captions[0], condition=conds[0]).images[0]"
      ],
      "metadata": {
        "id": "lIaFm99UiexD"
      },
      "execution_count": null,
      "outputs": []
    },
    {
      "cell_type": "code",
      "source": [
        "torch.save({\n",
        "    \"encoder\": condition_encoder.state_dict(),\n",
        "    \"cb1\": control_block1.state_dict(),\n",
        "    \"cb2\": control_block2.state_dict()\n",
        "}, \"controlnet_minimal.pth\")"
      ],
      "metadata": {
        "id": "02dLHPaYMwMM"
      },
      "execution_count": null,
      "outputs": []
    },
    {
      "cell_type": "markdown",
      "source": [
        "#Inferencia"
      ],
      "metadata": {
        "id": "aKSEdi_iMUgE"
      }
    },
    {
      "cell_type": "code",
      "source": [
        "pipe.enable_attention_slicing()\n",
        "\n",
        "example = dataset[0]\n",
        "cond = transform(example[\"condition\"]).unsqueeze(0).to(\"cuda\")\n",
        "caption = example[\"caption\"]\n",
        "\n",
        "# Ejecutar como siempre, pero ahora pasas la condición\n",
        "with torch.no_grad():\n",
        "    image = pipe(prompt=caption, condition=cond).images[0]\n",
        "\n",
        "image.show()\n"
      ],
      "metadata": {
        "id": "141ccVTBFTM_"
      },
      "execution_count": null,
      "outputs": []
    }
  ]
}